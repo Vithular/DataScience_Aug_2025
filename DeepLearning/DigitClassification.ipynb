{
 "cells": [
  {
   "cell_type": "code",
   "execution_count": 32,
   "metadata": {},
   "outputs": [],
   "source": [
    "import tensorflow as tf\n",
    "from tensorflow import keras\n",
    "import matplotlib.pyplot as plt\n",
    "import numpy as np"
   ]
  },
  {
   "cell_type": "code",
   "execution_count": 33,
   "metadata": {},
   "outputs": [],
   "source": [
    "(X_train, y_train) , (X_test, y_test) = keras.datasets.mnist.load_data()"
   ]
  },
  {
   "cell_type": "code",
   "execution_count": 34,
   "metadata": {},
   "outputs": [
    {
     "data": {
      "text/plain": [
       "array([[  0,   0,   0,   0,   0,   0,   0,   0,   0,   0,   0,   0,   0,\n",
       "          0,   0,   0,   0,   0,   0,   0,   0,   0,   0,   0,   0,   0,\n",
       "          0,   0],\n",
       "       [  0,   0,   0,   0,   0,   0,   0,   0,   0,   0,   0,   0,   0,\n",
       "          0,   0,   0,   0,   0,   0,   0,   0,   0,   0,   0,   0,   0,\n",
       "          0,   0],\n",
       "       [  0,   0,   0,   0,   0,   0,   0,   0,   0,   0,   0,   0,   0,\n",
       "          0,   0,   0,   0,   0,   0,   0,   0,   0,   0,   0,   0,   0,\n",
       "          0,   0],\n",
       "       [  0,   0,   0,   0,   0,   0,   0,   0,   0,   0,   0,   0,   0,\n",
       "          0,   0,   0,   0,   0,   0,   0,   0,   0,   0,   0,   0,   0,\n",
       "          0,   0],\n",
       "       [  0,   0,   0,   0,   0,   0,   0,   0,   0,   0,   0,   0,   0,\n",
       "          0,   0,   0,   0,   0,   0,   0,   0,   0,   0,   0,   0,   0,\n",
       "          0,   0],\n",
       "       [  0,   0,   0,   0,   0,   0,   0,   0,   0,   0,   0,   0,   3,\n",
       "         18,  18,  18, 126, 136, 175,  26, 166, 255, 247, 127,   0,   0,\n",
       "          0,   0],\n",
       "       [  0,   0,   0,   0,   0,   0,   0,   0,  30,  36,  94, 154, 170,\n",
       "        253, 253, 253, 253, 253, 225, 172, 253, 242, 195,  64,   0,   0,\n",
       "          0,   0],\n",
       "       [  0,   0,   0,   0,   0,   0,   0,  49, 238, 253, 253, 253, 253,\n",
       "        253, 253, 253, 253, 251,  93,  82,  82,  56,  39,   0,   0,   0,\n",
       "          0,   0],\n",
       "       [  0,   0,   0,   0,   0,   0,   0,  18, 219, 253, 253, 253, 253,\n",
       "        253, 198, 182, 247, 241,   0,   0,   0,   0,   0,   0,   0,   0,\n",
       "          0,   0],\n",
       "       [  0,   0,   0,   0,   0,   0,   0,   0,  80, 156, 107, 253, 253,\n",
       "        205,  11,   0,  43, 154,   0,   0,   0,   0,   0,   0,   0,   0,\n",
       "          0,   0],\n",
       "       [  0,   0,   0,   0,   0,   0,   0,   0,   0,  14,   1, 154, 253,\n",
       "         90,   0,   0,   0,   0,   0,   0,   0,   0,   0,   0,   0,   0,\n",
       "          0,   0],\n",
       "       [  0,   0,   0,   0,   0,   0,   0,   0,   0,   0,   0, 139, 253,\n",
       "        190,   2,   0,   0,   0,   0,   0,   0,   0,   0,   0,   0,   0,\n",
       "          0,   0],\n",
       "       [  0,   0,   0,   0,   0,   0,   0,   0,   0,   0,   0,  11, 190,\n",
       "        253,  70,   0,   0,   0,   0,   0,   0,   0,   0,   0,   0,   0,\n",
       "          0,   0],\n",
       "       [  0,   0,   0,   0,   0,   0,   0,   0,   0,   0,   0,   0,  35,\n",
       "        241, 225, 160, 108,   1,   0,   0,   0,   0,   0,   0,   0,   0,\n",
       "          0,   0],\n",
       "       [  0,   0,   0,   0,   0,   0,   0,   0,   0,   0,   0,   0,   0,\n",
       "         81, 240, 253, 253, 119,  25,   0,   0,   0,   0,   0,   0,   0,\n",
       "          0,   0],\n",
       "       [  0,   0,   0,   0,   0,   0,   0,   0,   0,   0,   0,   0,   0,\n",
       "          0,  45, 186, 253, 253, 150,  27,   0,   0,   0,   0,   0,   0,\n",
       "          0,   0],\n",
       "       [  0,   0,   0,   0,   0,   0,   0,   0,   0,   0,   0,   0,   0,\n",
       "          0,   0,  16,  93, 252, 253, 187,   0,   0,   0,   0,   0,   0,\n",
       "          0,   0],\n",
       "       [  0,   0,   0,   0,   0,   0,   0,   0,   0,   0,   0,   0,   0,\n",
       "          0,   0,   0,   0, 249, 253, 249,  64,   0,   0,   0,   0,   0,\n",
       "          0,   0],\n",
       "       [  0,   0,   0,   0,   0,   0,   0,   0,   0,   0,   0,   0,   0,\n",
       "          0,  46, 130, 183, 253, 253, 207,   2,   0,   0,   0,   0,   0,\n",
       "          0,   0],\n",
       "       [  0,   0,   0,   0,   0,   0,   0,   0,   0,   0,   0,   0,  39,\n",
       "        148, 229, 253, 253, 253, 250, 182,   0,   0,   0,   0,   0,   0,\n",
       "          0,   0],\n",
       "       [  0,   0,   0,   0,   0,   0,   0,   0,   0,   0,  24, 114, 221,\n",
       "        253, 253, 253, 253, 201,  78,   0,   0,   0,   0,   0,   0,   0,\n",
       "          0,   0],\n",
       "       [  0,   0,   0,   0,   0,   0,   0,   0,  23,  66, 213, 253, 253,\n",
       "        253, 253, 198,  81,   2,   0,   0,   0,   0,   0,   0,   0,   0,\n",
       "          0,   0],\n",
       "       [  0,   0,   0,   0,   0,   0,  18, 171, 219, 253, 253, 253, 253,\n",
       "        195,  80,   9,   0,   0,   0,   0,   0,   0,   0,   0,   0,   0,\n",
       "          0,   0],\n",
       "       [  0,   0,   0,   0,  55, 172, 226, 253, 253, 253, 253, 244, 133,\n",
       "         11,   0,   0,   0,   0,   0,   0,   0,   0,   0,   0,   0,   0,\n",
       "          0,   0],\n",
       "       [  0,   0,   0,   0, 136, 253, 253, 253, 212, 135, 132,  16,   0,\n",
       "          0,   0,   0,   0,   0,   0,   0,   0,   0,   0,   0,   0,   0,\n",
       "          0,   0],\n",
       "       [  0,   0,   0,   0,   0,   0,   0,   0,   0,   0,   0,   0,   0,\n",
       "          0,   0,   0,   0,   0,   0,   0,   0,   0,   0,   0,   0,   0,\n",
       "          0,   0],\n",
       "       [  0,   0,   0,   0,   0,   0,   0,   0,   0,   0,   0,   0,   0,\n",
       "          0,   0,   0,   0,   0,   0,   0,   0,   0,   0,   0,   0,   0,\n",
       "          0,   0],\n",
       "       [  0,   0,   0,   0,   0,   0,   0,   0,   0,   0,   0,   0,   0,\n",
       "          0,   0,   0,   0,   0,   0,   0,   0,   0,   0,   0,   0,   0,\n",
       "          0,   0]], dtype=uint8)"
      ]
     },
     "execution_count": 34,
     "metadata": {},
     "output_type": "execute_result"
    }
   ],
   "source": [
    "X_train[0]"
   ]
  },
  {
   "cell_type": "code",
   "execution_count": 35,
   "metadata": {},
   "outputs": [
    {
     "data": {
      "text/plain": [
       "60000"
      ]
     },
     "execution_count": 35,
     "metadata": {},
     "output_type": "execute_result"
    }
   ],
   "source": [
    "len(X_train)"
   ]
  },
  {
   "cell_type": "code",
   "execution_count": 36,
   "metadata": {},
   "outputs": [
    {
     "data": {
      "text/plain": [
       "10000"
      ]
     },
     "execution_count": 36,
     "metadata": {},
     "output_type": "execute_result"
    }
   ],
   "source": [
    "len(X_test)"
   ]
  },
  {
   "cell_type": "code",
   "execution_count": 37,
   "metadata": {},
   "outputs": [
    {
     "data": {
      "text/plain": [
       "array([1, 2, 1, 3])"
      ]
     },
     "execution_count": 37,
     "metadata": {},
     "output_type": "execute_result"
    }
   ],
   "source": [
    "np.array([[1,2],[1,3]]).flatten()"
   ]
  },
  {
   "cell_type": "code",
   "execution_count": null,
   "metadata": {},
   "outputs": [],
   "source": []
  },
  {
   "cell_type": "code",
   "execution_count": 38,
   "metadata": {},
   "outputs": [
    {
     "data": {
      "text/plain": [
       "(28, 28)"
      ]
     },
     "execution_count": 38,
     "metadata": {},
     "output_type": "execute_result"
    }
   ],
   "source": [
    "X_train[0].shape"
   ]
  },
  {
   "cell_type": "code",
   "execution_count": 39,
   "metadata": {},
   "outputs": [
    {
     "data": {
      "text/plain": [
       "array([[  0,   0,   0,   0,   0,   0,   0,   0,   0,   0,   0,   0,   0,\n",
       "          0,   0,   0,   0,   0,   0,   0,   0,   0,   0,   0,   0,   0,\n",
       "          0,   0],\n",
       "       [  0,   0,   0,   0,   0,   0,   0,   0,   0,   0,   0,   0,   0,\n",
       "          0,   0,   0,   0,   0,   0,   0,   0,   0,   0,   0,   0,   0,\n",
       "          0,   0],\n",
       "       [  0,   0,   0,   0,   0,   0,   0,   0,   0,   0,   0,   0,   0,\n",
       "          0,   0,   0,   0,   0,   0,   0,   0,   0,   0,   0,   0,   0,\n",
       "          0,   0],\n",
       "       [  0,   0,   0,   0,   0,   0,   0,   0,   0,   0,   0,   0,   0,\n",
       "          0,   0,   0,   0,   0,   0,   0,   0,   0,   0,   0,   0,   0,\n",
       "          0,   0],\n",
       "       [  0,   0,   0,   0,   0,   0,   0,   0,   0,   0,   0,   0,   0,\n",
       "          0,   0,   0,   0,   0,   0,   0,   0,   0,   0,   0,   0,   0,\n",
       "          0,   0],\n",
       "       [  0,   0,   0,   0,   0,   0,   0,   0,   0,   0,   0,   0,   3,\n",
       "         18,  18,  18, 126, 136, 175,  26, 166, 255, 247, 127,   0,   0,\n",
       "          0,   0],\n",
       "       [  0,   0,   0,   0,   0,   0,   0,   0,  30,  36,  94, 154, 170,\n",
       "        253, 253, 253, 253, 253, 225, 172, 253, 242, 195,  64,   0,   0,\n",
       "          0,   0],\n",
       "       [  0,   0,   0,   0,   0,   0,   0,  49, 238, 253, 253, 253, 253,\n",
       "        253, 253, 253, 253, 251,  93,  82,  82,  56,  39,   0,   0,   0,\n",
       "          0,   0],\n",
       "       [  0,   0,   0,   0,   0,   0,   0,  18, 219, 253, 253, 253, 253,\n",
       "        253, 198, 182, 247, 241,   0,   0,   0,   0,   0,   0,   0,   0,\n",
       "          0,   0],\n",
       "       [  0,   0,   0,   0,   0,   0,   0,   0,  80, 156, 107, 253, 253,\n",
       "        205,  11,   0,  43, 154,   0,   0,   0,   0,   0,   0,   0,   0,\n",
       "          0,   0],\n",
       "       [  0,   0,   0,   0,   0,   0,   0,   0,   0,  14,   1, 154, 253,\n",
       "         90,   0,   0,   0,   0,   0,   0,   0,   0,   0,   0,   0,   0,\n",
       "          0,   0],\n",
       "       [  0,   0,   0,   0,   0,   0,   0,   0,   0,   0,   0, 139, 253,\n",
       "        190,   2,   0,   0,   0,   0,   0,   0,   0,   0,   0,   0,   0,\n",
       "          0,   0],\n",
       "       [  0,   0,   0,   0,   0,   0,   0,   0,   0,   0,   0,  11, 190,\n",
       "        253,  70,   0,   0,   0,   0,   0,   0,   0,   0,   0,   0,   0,\n",
       "          0,   0],\n",
       "       [  0,   0,   0,   0,   0,   0,   0,   0,   0,   0,   0,   0,  35,\n",
       "        241, 225, 160, 108,   1,   0,   0,   0,   0,   0,   0,   0,   0,\n",
       "          0,   0],\n",
       "       [  0,   0,   0,   0,   0,   0,   0,   0,   0,   0,   0,   0,   0,\n",
       "         81, 240, 253, 253, 119,  25,   0,   0,   0,   0,   0,   0,   0,\n",
       "          0,   0],\n",
       "       [  0,   0,   0,   0,   0,   0,   0,   0,   0,   0,   0,   0,   0,\n",
       "          0,  45, 186, 253, 253, 150,  27,   0,   0,   0,   0,   0,   0,\n",
       "          0,   0],\n",
       "       [  0,   0,   0,   0,   0,   0,   0,   0,   0,   0,   0,   0,   0,\n",
       "          0,   0,  16,  93, 252, 253, 187,   0,   0,   0,   0,   0,   0,\n",
       "          0,   0],\n",
       "       [  0,   0,   0,   0,   0,   0,   0,   0,   0,   0,   0,   0,   0,\n",
       "          0,   0,   0,   0, 249, 253, 249,  64,   0,   0,   0,   0,   0,\n",
       "          0,   0],\n",
       "       [  0,   0,   0,   0,   0,   0,   0,   0,   0,   0,   0,   0,   0,\n",
       "          0,  46, 130, 183, 253, 253, 207,   2,   0,   0,   0,   0,   0,\n",
       "          0,   0],\n",
       "       [  0,   0,   0,   0,   0,   0,   0,   0,   0,   0,   0,   0,  39,\n",
       "        148, 229, 253, 253, 253, 250, 182,   0,   0,   0,   0,   0,   0,\n",
       "          0,   0],\n",
       "       [  0,   0,   0,   0,   0,   0,   0,   0,   0,   0,  24, 114, 221,\n",
       "        253, 253, 253, 253, 201,  78,   0,   0,   0,   0,   0,   0,   0,\n",
       "          0,   0],\n",
       "       [  0,   0,   0,   0,   0,   0,   0,   0,  23,  66, 213, 253, 253,\n",
       "        253, 253, 198,  81,   2,   0,   0,   0,   0,   0,   0,   0,   0,\n",
       "          0,   0],\n",
       "       [  0,   0,   0,   0,   0,   0,  18, 171, 219, 253, 253, 253, 253,\n",
       "        195,  80,   9,   0,   0,   0,   0,   0,   0,   0,   0,   0,   0,\n",
       "          0,   0],\n",
       "       [  0,   0,   0,   0,  55, 172, 226, 253, 253, 253, 253, 244, 133,\n",
       "         11,   0,   0,   0,   0,   0,   0,   0,   0,   0,   0,   0,   0,\n",
       "          0,   0],\n",
       "       [  0,   0,   0,   0, 136, 253, 253, 253, 212, 135, 132,  16,   0,\n",
       "          0,   0,   0,   0,   0,   0,   0,   0,   0,   0,   0,   0,   0,\n",
       "          0,   0],\n",
       "       [  0,   0,   0,   0,   0,   0,   0,   0,   0,   0,   0,   0,   0,\n",
       "          0,   0,   0,   0,   0,   0,   0,   0,   0,   0,   0,   0,   0,\n",
       "          0,   0],\n",
       "       [  0,   0,   0,   0,   0,   0,   0,   0,   0,   0,   0,   0,   0,\n",
       "          0,   0,   0,   0,   0,   0,   0,   0,   0,   0,   0,   0,   0,\n",
       "          0,   0],\n",
       "       [  0,   0,   0,   0,   0,   0,   0,   0,   0,   0,   0,   0,   0,\n",
       "          0,   0,   0,   0,   0,   0,   0,   0,   0,   0,   0,   0,   0,\n",
       "          0,   0]], dtype=uint8)"
      ]
     },
     "execution_count": 39,
     "metadata": {},
     "output_type": "execute_result"
    }
   ],
   "source": [
    "X_train[0]"
   ]
  },
  {
   "cell_type": "code",
   "execution_count": 40,
   "metadata": {},
   "outputs": [
    {
     "data": {
      "text/plain": [
       "<matplotlib.image.AxesImage at 0x71f9f849f830>"
      ]
     },
     "execution_count": 40,
     "metadata": {},
     "output_type": "execute_result"
    },
    {
     "data": {
      "image/png": "[encoded data removed]",
      "text/plain": [
       "<Figure size 480x480 with 1 Axes>"
      ]
     },
     "metadata": {},
     "output_type": "display_data"
    }
   ],
   "source": [
    "plt.matshow(X_train[155])"
   ]
  },
  {
   "cell_type": "code",
   "execution_count": 41,
   "metadata": {},
   "outputs": [
    {
     "data": {
      "text/plain": [
       "np.uint8(6)"
      ]
     },
     "execution_count": 41,
     "metadata": {},
     "output_type": "execute_result"
    }
   ],
   "source": [
    "y_train[155]"
   ]
  },
  {
   "cell_type": "code",
   "execution_count": 42,
   "metadata": {},
   "outputs": [
    {
     "data": {
      "text/plain": [
       "array([[  0,   0,   0,   0,   0,   0,   0,   0,   0,   0,   0,   0,   0,\n",
       "          0,   0,   0,   0,   0,   0,   0,   0,   0,   0,   0,   0,   0,\n",
       "          0,   0],\n",
       "       [  0,   0,   0,   0,   0,   0,   0,   0,   0,   0,   0,   0,   0,\n",
       "          0,   0,   0,   0,   0,   0,   0,   0,   0,   0,   0,   0,   0,\n",
       "          0,   0],\n",
       "       [  0,   0,   0,   0,   0,   0,   0,   0,   0,   0,   0,   0,   0,\n",
       "          0,   0,   0,   0,   0,   0,   0,   0,   0,   0,   0,   0,   0,\n",
       "          0,   0],\n",
       "       [  0,   0,   0,   0,   0,   0,   0,   0,   0,   0,   0,   0,   0,\n",
       "          0,   0,   0,   0,   0,   0,   0,   0,   0,   0,   0,   0,   0,\n",
       "          0,   0],\n",
       "       [  0,   0,   0,   0,   0,   0,   0,   0,   0,   0,   0,   0,   0,\n",
       "          0,   0,   0,   0,   0,   0,   0,   0,   0,   0,   0,   0,   0,\n",
       "          0,   0],\n",
       "       [  0,   0,   0,   0,   0,   0,   0,   0,   0,   0,   0,   0,   3,\n",
       "         18,  18,  18, 126, 136, 175,  26, 166, 255, 247, 127,   0,   0,\n",
       "          0,   0],\n",
       "       [  0,   0,   0,   0,   0,   0,   0,   0,  30,  36,  94, 154, 170,\n",
       "        253, 253, 253, 253, 253, 225, 172, 253, 242, 195,  64,   0,   0,\n",
       "          0,   0],\n",
       "       [  0,   0,   0,   0,   0,   0,   0,  49, 238, 253, 253, 253, 253,\n",
       "        253, 253, 253, 253, 251,  93,  82,  82,  56,  39,   0,   0,   0,\n",
       "          0,   0],\n",
       "       [  0,   0,   0,   0,   0,   0,   0,  18, 219, 253, 253, 253, 253,\n",
       "        253, 198, 182, 247, 241,   0,   0,   0,   0,   0,   0,   0,   0,\n",
       "          0,   0],\n",
       "       [  0,   0,   0,   0,   0,   0,   0,   0,  80, 156, 107, 253, 253,\n",
       "        205,  11,   0,  43, 154,   0,   0,   0,   0,   0,   0,   0,   0,\n",
       "          0,   0],\n",
       "       [  0,   0,   0,   0,   0,   0,   0,   0,   0,  14,   1, 154, 253,\n",
       "         90,   0,   0,   0,   0,   0,   0,   0,   0,   0,   0,   0,   0,\n",
       "          0,   0],\n",
       "       [  0,   0,   0,   0,   0,   0,   0,   0,   0,   0,   0, 139, 253,\n",
       "        190,   2,   0,   0,   0,   0,   0,   0,   0,   0,   0,   0,   0,\n",
       "          0,   0],\n",
       "       [  0,   0,   0,   0,   0,   0,   0,   0,   0,   0,   0,  11, 190,\n",
       "        253,  70,   0,   0,   0,   0,   0,   0,   0,   0,   0,   0,   0,\n",
       "          0,   0],\n",
       "       [  0,   0,   0,   0,   0,   0,   0,   0,   0,   0,   0,   0,  35,\n",
       "        241, 225, 160, 108,   1,   0,   0,   0,   0,   0,   0,   0,   0,\n",
       "          0,   0],\n",
       "       [  0,   0,   0,   0,   0,   0,   0,   0,   0,   0,   0,   0,   0,\n",
       "         81, 240, 253, 253, 119,  25,   0,   0,   0,   0,   0,   0,   0,\n",
       "          0,   0],\n",
       "       [  0,   0,   0,   0,   0,   0,   0,   0,   0,   0,   0,   0,   0,\n",
       "          0,  45, 186, 253, 253, 150,  27,   0,   0,   0,   0,   0,   0,\n",
       "          0,   0],\n",
       "       [  0,   0,   0,   0,   0,   0,   0,   0,   0,   0,   0,   0,   0,\n",
       "          0,   0,  16,  93, 252, 253, 187,   0,   0,   0,   0,   0,   0,\n",
       "          0,   0],\n",
       "       [  0,   0,   0,   0,   0,   0,   0,   0,   0,   0,   0,   0,   0,\n",
       "          0,   0,   0,   0, 249, 253, 249,  64,   0,   0,   0,   0,   0,\n",
       "          0,   0],\n",
       "       [  0,   0,   0,   0,   0,   0,   0,   0,   0,   0,   0,   0,   0,\n",
       "          0,  46, 130, 183, 253, 253, 207,   2,   0,   0,   0,   0,   0,\n",
       "          0,   0],\n",
       "       [  0,   0,   0,   0,   0,   0,   0,   0,   0,   0,   0,   0,  39,\n",
       "        148, 229, 253, 253, 253, 250, 182,   0,   0,   0,   0,   0,   0,\n",
       "          0,   0],\n",
       "       [  0,   0,   0,   0,   0,   0,   0,   0,   0,   0,  24, 114, 221,\n",
       "        253, 253, 253, 253, 201,  78,   0,   0,   0,   0,   0,   0,   0,\n",
       "          0,   0],\n",
       "       [  0,   0,   0,   0,   0,   0,   0,   0,  23,  66, 213, 253, 253,\n",
       "        253, 253, 198,  81,   2,   0,   0,   0,   0,   0,   0,   0,   0,\n",
       "          0,   0],\n",
       "       [  0,   0,   0,   0,   0,   0,  18, 171, 219, 253, 253, 253, 253,\n",
       "        195,  80,   9,   0,   0,   0,   0,   0,   0,   0,   0,   0,   0,\n",
       "          0,   0],\n",
       "       [  0,   0,   0,   0,  55, 172, 226, 253, 253, 253, 253, 244, 133,\n",
       "         11,   0,   0,   0,   0,   0,   0,   0,   0,   0,   0,   0,   0,\n",
       "          0,   0],\n",
       "       [  0,   0,   0,   0, 136, 253, 253, 253, 212, 135, 132,  16,   0,\n",
       "          0,   0,   0,   0,   0,   0,   0,   0,   0,   0,   0,   0,   0,\n",
       "          0,   0],\n",
       "       [  0,   0,   0,   0,   0,   0,   0,   0,   0,   0,   0,   0,   0,\n",
       "          0,   0,   0,   0,   0,   0,   0,   0,   0,   0,   0,   0,   0,\n",
       "          0,   0],\n",
       "       [  0,   0,   0,   0,   0,   0,   0,   0,   0,   0,   0,   0,   0,\n",
       "          0,   0,   0,   0,   0,   0,   0,   0,   0,   0,   0,   0,   0,\n",
       "          0,   0],\n",
       "       [  0,   0,   0,   0,   0,   0,   0,   0,   0,   0,   0,   0,   0,\n",
       "          0,   0,   0,   0,   0,   0,   0,   0,   0,   0,   0,   0,   0,\n",
       "          0,   0]], dtype=uint8)"
      ]
     },
     "execution_count": 42,
     "metadata": {},
     "output_type": "execute_result"
    }
   ],
   "source": [
    "X_train[0]"
   ]
  },
  {
   "cell_type": "code",
   "execution_count": 43,
   "metadata": {},
   "outputs": [
    {
     "data": {
      "text/plain": [
       "(60000, 28, 28)"
      ]
     },
     "execution_count": 43,
     "metadata": {},
     "output_type": "execute_result"
    }
   ],
   "source": [
    "X_train.shape"
   ]
  },
  {
   "cell_type": "code",
   "execution_count": 44,
   "metadata": {},
   "outputs": [
    {
     "data": {
      "text/plain": [
       "784"
      ]
     },
     "execution_count": 44,
     "metadata": {},
     "output_type": "execute_result"
    }
   ],
   "source": [
    "28*28"
   ]
  },
  {
   "cell_type": "code",
   "execution_count": null,
   "metadata": {},
   "outputs": [],
   "source": []
  },
  {
   "cell_type": "code",
   "execution_count": 47,
   "metadata": {},
   "outputs": [],
   "source": [
    "X_train_flattened = X_train.reshape(len(X_train), 28*28)\n",
    "X_test_flattened = X_test.reshape(len(X_test), 28*28)"
   ]
  },
  {
   "cell_type": "code",
   "execution_count": 62,
   "metadata": {},
   "outputs": [],
   "source": [
    "X_train_flattened = X_train.reshape(len(X_train), 28*28) / 255\n",
    "X_test_flattened = X_test.reshape(len(X_test), 28*28) / 255"
   ]
  },
  {
   "cell_type": "code",
   "execution_count": 63,
   "metadata": {},
   "outputs": [
    {
     "data": {
      "text/plain": [
       "(60000, 784)"
      ]
     },
     "execution_count": 63,
     "metadata": {},
     "output_type": "execute_result"
    }
   ],
   "source": [
    "X_train_flattened.shape"
   ]
  },
  {
   "cell_type": "code",
   "execution_count": 64,
   "metadata": {},
   "outputs": [
    {
     "data": {
      "text/plain": [
       "array([0.        , 0.        , 0.        , 0.        , 0.        ,\n",
       "       0.        , 0.        , 0.        , 0.        , 0.        ,\n",
       "       0.        , 0.        , 0.        , 0.        , 0.        ,\n",
       "       0.        , 0.        , 0.        , 0.        , 0.        ,\n",
       "       0.        , 0.        , 0.        , 0.        , 0.        ,\n",
       "       0.        , 0.        , 0.        , 0.        , 0.        ,\n",
       "       0.        , 0.        , 0.        , 0.        , 0.        ,\n",
       "       0.        , 0.        , 0.        , 0.        , 0.        ,\n",
       "       0.        , 0.        , 0.        , 0.        , 0.        ,\n",
       "       0.        , 0.        , 0.        , 0.        , 0.        ,\n",
       "       0.        , 0.        , 0.01176471, 0.07058824, 0.07058824,\n",
       "       0.07058824, 0.49411765, 0.53333333, 0.68627451, 0.10196078,\n",
       "       0.65098039, 1.        , 0.96862745, 0.49803922, 0.        ,\n",
       "       0.        , 0.        , 0.        , 0.        , 0.        ,\n",
       "       0.        , 0.        , 0.        , 0.        , 0.        ,\n",
       "       0.        , 0.11764706, 0.14117647, 0.36862745, 0.60392157,\n",
       "       0.66666667, 0.99215686, 0.99215686, 0.99215686, 0.99215686,\n",
       "       0.99215686, 0.88235294, 0.6745098 , 0.99215686, 0.94901961,\n",
       "       0.76470588, 0.25098039, 0.        , 0.        , 0.        ,\n",
       "       0.        , 0.        , 0.        , 0.        , 0.        ])"
      ]
     },
     "execution_count": 64,
     "metadata": {},
     "output_type": "execute_result"
    }
   ],
   "source": [
    "X_train_flattened[0][100:200]"
   ]
  },
  {
   "cell_type": "markdown",
   "metadata": {},
   "source": [
    "<h3 style='color:purple'>Very simple neural network with no hidden layers</h3>"
   ]
  },
  {
   "cell_type": "markdown",
   "metadata": {},
   "source": [
    "<img src=\"digits_nn.jpg\" />"
   ]
  },
  {
   "cell_type": "code",
   "execution_count": 65,
   "metadata": {},
   "outputs": [
    {
     "name": "stdout",
     "output_type": "stream",
     "text": [
      "Epoch 1/10\n",
      "\u001b[1m1875/1875\u001b[0m \u001b[32m━━━━━━━━━━━━━━━━━━━━\u001b[0m\u001b[37m\u001b[0m \u001b[1m3s\u001b[0m 1ms/step - accuracy: 0.8792 - loss: 0.4643\n",
      "Epoch 2/10\n",
      "\u001b[1m1875/1875\u001b[0m \u001b[32m━━━━━━━━━━━━━━━━━━━━\u001b[0m\u001b[37m\u001b[0m \u001b[1m2s\u001b[0m 1ms/step - accuracy: 0.9149 - loss: 0.3033\n",
      "Epoch 3/10\n",
      "\u001b[1m1875/1875\u001b[0m \u001b[32m━━━━━━━━━━━━━━━━━━━━\u001b[0m\u001b[37m\u001b[0m \u001b[1m2s\u001b[0m 1ms/step - accuracy: 0.9208 - loss: 0.2828\n",
      "Epoch 4/10\n",
      "\u001b[1m1875/1875\u001b[0m \u001b[32m━━━━━━━━━━━━━━━━━━━━\u001b[0m\u001b[37m\u001b[0m \u001b[1m2s\u001b[0m 1ms/step - accuracy: 0.9238 - loss: 0.2727\n",
      "Epoch 5/10\n",
      "\u001b[1m1875/1875\u001b[0m \u001b[32m━━━━━━━━━━━━━━━━━━━━\u001b[0m\u001b[37m\u001b[0m \u001b[1m2s\u001b[0m 1ms/step - accuracy: 0.9258 - loss: 0.2664\n",
      "Epoch 6/10\n",
      "\u001b[1m1875/1875\u001b[0m \u001b[32m━━━━━━━━━━━━━━━━━━━━\u001b[0m\u001b[37m\u001b[0m \u001b[1m2s\u001b[0m 1ms/step - accuracy: 0.9273 - loss: 0.2618\n",
      "Epoch 7/10\n",
      "\u001b[1m1875/1875\u001b[0m \u001b[32m━━━━━━━━━━━━━━━━━━━━\u001b[0m\u001b[37m\u001b[0m \u001b[1m2s\u001b[0m 1ms/step - accuracy: 0.9283 - loss: 0.2585\n",
      "Epoch 8/10\n",
      "\u001b[1m1875/1875\u001b[0m \u001b[32m━━━━━━━━━━━━━━━━━━━━\u001b[0m\u001b[37m\u001b[0m \u001b[1m2s\u001b[0m 1ms/step - accuracy: 0.9295 - loss: 0.2554\n",
      "Epoch 9/10\n",
      "\u001b[1m1875/1875\u001b[0m \u001b[32m━━━━━━━━━━━━━━━━━━━━\u001b[0m\u001b[37m\u001b[0m \u001b[1m2s\u001b[0m 1ms/step - accuracy: 0.9298 - loss: 0.2529\n",
      "Epoch 10/10\n",
      "\u001b[1m1875/1875\u001b[0m \u001b[32m━━━━━━━━━━━━━━━━━━━━\u001b[0m\u001b[37m\u001b[0m \u001b[1m2s\u001b[0m 1ms/step - accuracy: 0.9305 - loss: 0.2513\n"
     ]
    },
    {
     "data": {
      "text/plain": [
       "<keras.src.callbacks.history.History at 0x71fa1a056900>"
      ]
     },
     "execution_count": 65,
     "metadata": {},
     "output_type": "execute_result"
    }
   ],
   "source": [
    "model = keras.Sequential([\n",
    "    keras.layers.Dense(10, input_shape=(784,), activation='sigmoid')\n",
    "])\n",
    "\n",
    "model.compile(optimizer='adam',\n",
    "              loss='sparse_categorical_crossentropy',\n",
    "              metrics=['accuracy'])\n",
    "\n",
    "model.fit(X_train_flattened, y_train, epochs=10)"
   ]
  },
  {
   "cell_type": "code",
   "execution_count": 66,
   "metadata": {
    "scrolled": true
   },
   "outputs": [
    {
     "name": "stdout",
     "output_type": "stream",
     "text": [
      "\u001b[1m313/313\u001b[0m \u001b[32m━━━━━━━━━━━━━━━━━━━━\u001b[0m\u001b[37m\u001b[0m \u001b[1m0s\u001b[0m 1ms/step - accuracy: 0.9274 - loss: 0.2657\n"
     ]
    },
    {
     "data": {
      "text/plain": [
       "[0.2656523883342743, 0.9273999929428101]"
      ]
     },
     "execution_count": 66,
     "metadata": {},
     "output_type": "execute_result"
    }
   ],
   "source": [
    "model.evaluate(X_test_flattened, y_test)"
   ]
  },
  {
   "cell_type": "code",
   "execution_count": 67,
   "metadata": {},
   "outputs": [
    {
     "name": "stdout",
     "output_type": "stream",
     "text": [
      "\u001b[1m313/313\u001b[0m \u001b[32m━━━━━━━━━━━━━━━━━━━━\u001b[0m\u001b[37m\u001b[0m \u001b[1m0s\u001b[0m 753us/step\n"
     ]
    }
   ],
   "source": [
    "y_predicted = model.predict(X_test_flattened)"
   ]
  },
  {
   "cell_type": "code",
   "execution_count": 72,
   "metadata": {
    "scrolled": true
   },
   "outputs": [
    {
     "data": {
      "text/plain": [
       "<matplotlib.image.AxesImage at 0x71fa003f23f0>"
      ]
     },
     "execution_count": 72,
     "metadata": {},
     "output_type": "execute_result"
    },
    {
     "data": {
      "image/png": "[encoded data removed]",
      "text/plain": [
       "<Figure size 480x480 with 1 Axes>"
      ]
     },
     "metadata": {},
     "output_type": "display_data"
    }
   ],
   "source": [
    "plt.matshow(X_test[416])"
   ]
  },
  {
   "cell_type": "markdown",
   "metadata": {},
   "source": [
    "**np.argmax finds a maximum element  from an array and returns the index of it**"
   ]
  },
  {
   "cell_type": "code",
   "execution_count": 86,
   "metadata": {},
   "outputs": [
    {
     "data": {
      "text/plain": [
       "np.int64(2)"
      ]
     },
     "execution_count": 86,
     "metadata": {},
     "output_type": "execute_result"
    }
   ],
   "source": [
    "list1 = [2,3,64,5,6,7]\n",
    "\n",
    "np.argmax(list1)"
   ]
  },
  {
   "cell_type": "code",
   "execution_count": 84,
   "metadata": {},
   "outputs": [
    {
     "data": {
      "text/plain": [
       "np.int64(1)"
      ]
     },
     "execution_count": 84,
     "metadata": {},
     "output_type": "execute_result"
    }
   ],
   "source": [
    "np.argmax(y_predicted[416])"
   ]
  },
  {
   "cell_type": "code",
   "execution_count": 87,
   "metadata": {},
   "outputs": [
    {
     "data": {
      "text/plain": [
       "np.float32(0.99942005)"
      ]
     },
     "execution_count": 87,
     "metadata": {},
     "output_type": "execute_result"
    }
   ],
   "source": [
    "max(y_predicted[416])"
   ]
  },
  {
   "cell_type": "code",
   "execution_count": null,
   "metadata": {},
   "outputs": [
    {
     "data": {
      "text/plain": [
       "np.int64(1)"
      ]
     },
     "execution_count": 73,
     "metadata": {},
     "output_type": "execute_result"
    }
   ],
   "source": [
    "np.argmax()"
   ]
  },
  {
   "cell_type": "code",
   "execution_count": 74,
   "metadata": {},
   "outputs": [
    {
     "data": {
      "text/plain": [
       "np.uint8(1)"
      ]
     },
     "execution_count": 74,
     "metadata": {},
     "output_type": "execute_result"
    }
   ],
   "source": [
    "y_test[416]"
   ]
  },
  {
   "cell_type": "code",
   "execution_count": 75,
   "metadata": {},
   "outputs": [],
   "source": [
    "y_predicted_labels = [np.argmax(i) for i in y_predicted]"
   ]
  },
  {
   "cell_type": "code",
   "execution_count": 89,
   "metadata": {},
   "outputs": [
    {
     "data": {
      "image/png": "[encoded data removed]",
      "text/plain": [
       "<Figure size 640x480 with 2 Axes>"
      ]
     },
     "metadata": {},
     "output_type": "display_data"
    }
   ],
   "source": [
    "import seaborn as sns\n",
    "\n",
    "sns.heatmap(cm.numpy(), annot=True, fmt='d', cmap='coolwarm', xticklabels=range(10), yticklabels=range(10))\n",
    "plt.xlabel('Predicted')\n",
    "plt.ylabel('True')\n",
    "plt.title('Confusion Matrix')\n",
    "plt.show()"
   ]
  },
  {
   "cell_type": "code",
   "execution_count": null,
   "metadata": {},
   "outputs": [],
   "source": []
  },
  {
   "cell_type": "code",
   "execution_count": 76,
   "metadata": {},
   "outputs": [
    {
     "data": {
      "text/plain": [
       "[np.int64(7),\n",
       " np.int64(2),\n",
       " np.int64(1),\n",
       " np.int64(0),\n",
       " np.int64(4),\n",
       " np.int64(1),\n",
       " np.int64(4),\n",
       " np.int64(9),\n",
       " np.int64(6),\n",
       " np.int64(9),\n",
       " np.int64(0),\n",
       " np.int64(6),\n",
       " np.int64(9),\n",
       " np.int64(0),\n",
       " np.int64(1),\n",
       " np.int64(5),\n",
       " np.int64(9),\n",
       " np.int64(7),\n",
       " np.int64(3),\n",
       " np.int64(4),\n",
       " np.int64(9),\n",
       " np.int64(6),\n",
       " np.int64(6),\n",
       " np.int64(5),\n",
       " np.int64(4),\n",
       " np.int64(0),\n",
       " np.int64(7),\n",
       " np.int64(4),\n",
       " np.int64(0),\n",
       " np.int64(1),\n",
       " np.int64(3),\n",
       " np.int64(1),\n",
       " np.int64(3),\n",
       " np.int64(6),\n",
       " np.int64(7),\n",
       " np.int64(2),\n",
       " np.int64(7),\n",
       " np.int64(1),\n",
       " np.int64(2),\n",
       " np.int64(1),\n",
       " np.int64(1),\n",
       " np.int64(7),\n",
       " np.int64(4),\n",
       " np.int64(2),\n",
       " np.int64(3),\n",
       " np.int64(5),\n",
       " np.int64(1),\n",
       " np.int64(2),\n",
       " np.int64(4),\n",
       " np.int64(4),\n",
       " np.int64(6),\n",
       " np.int64(3),\n",
       " np.int64(5),\n",
       " np.int64(5),\n",
       " np.int64(6),\n",
       " np.int64(0),\n",
       " np.int64(4),\n",
       " np.int64(1),\n",
       " np.int64(9),\n",
       " np.int64(5),\n",
       " np.int64(7),\n",
       " np.int64(8),\n",
       " np.int64(9),\n",
       " np.int64(2),\n",
       " np.int64(7),\n",
       " np.int64(4),\n",
       " np.int64(2),\n",
       " np.int64(4),\n",
       " np.int64(3),\n",
       " np.int64(0),\n",
       " np.int64(7),\n",
       " np.int64(0),\n",
       " np.int64(2),\n",
       " np.int64(9),\n",
       " np.int64(1),\n",
       " np.int64(7),\n",
       " np.int64(3),\n",
       " np.int64(2),\n",
       " np.int64(9),\n",
       " np.int64(7),\n",
       " np.int64(7),\n",
       " np.int64(6),\n",
       " np.int64(2),\n",
       " np.int64(7),\n",
       " np.int64(8),\n",
       " np.int64(4),\n",
       " np.int64(7),\n",
       " np.int64(3),\n",
       " np.int64(6),\n",
       " np.int64(1),\n",
       " np.int64(3),\n",
       " np.int64(6),\n",
       " np.int64(9),\n",
       " np.int64(3),\n",
       " np.int64(1),\n",
       " np.int64(4),\n",
       " np.int64(1),\n",
       " np.int64(7),\n",
       " np.int64(6),\n",
       " np.int64(9),\n",
       " np.int64(6),\n",
       " np.int64(0),\n",
       " np.int64(5),\n",
       " np.int64(4),\n",
       " np.int64(9),\n",
       " np.int64(9),\n",
       " np.int64(2),\n",
       " np.int64(1),\n",
       " np.int64(9),\n",
       " np.int64(4),\n",
       " np.int64(8),\n",
       " np.int64(7),\n",
       " np.int64(3),\n",
       " np.int64(9),\n",
       " np.int64(7),\n",
       " np.int64(4),\n",
       " np.int64(4),\n",
       " np.int64(4),\n",
       " np.int64(9),\n",
       " np.int64(2),\n",
       " np.int64(5),\n",
       " np.int64(4),\n",
       " np.int64(7),\n",
       " np.int64(6),\n",
       " np.int64(7),\n",
       " np.int64(9),\n",
       " np.int64(0),\n",
       " np.int64(5),\n",
       " np.int64(8),\n",
       " np.int64(5),\n",
       " np.int64(6),\n",
       " np.int64(6),\n",
       " np.int64(5),\n",
       " np.int64(7),\n",
       " np.int64(8),\n",
       " np.int64(1),\n",
       " np.int64(0),\n",
       " np.int64(1),\n",
       " np.int64(6),\n",
       " np.int64(4),\n",
       " np.int64(6),\n",
       " np.int64(7),\n",
       " np.int64(3),\n",
       " np.int64(1),\n",
       " np.int64(7),\n",
       " np.int64(1),\n",
       " np.int64(8),\n",
       " np.int64(2),\n",
       " np.int64(0),\n",
       " np.int64(9),\n",
       " np.int64(9),\n",
       " np.int64(9),\n",
       " np.int64(5),\n",
       " np.int64(5),\n",
       " np.int64(1),\n",
       " np.int64(5),\n",
       " np.int64(6),\n",
       " np.int64(0),\n",
       " np.int64(3),\n",
       " np.int64(4),\n",
       " np.int64(4),\n",
       " np.int64(6),\n",
       " np.int64(5),\n",
       " np.int64(4),\n",
       " np.int64(6),\n",
       " np.int64(5),\n",
       " np.int64(4),\n",
       " np.int64(5),\n",
       " np.int64(1),\n",
       " np.int64(4),\n",
       " np.int64(4),\n",
       " np.int64(7),\n",
       " np.int64(2),\n",
       " np.int64(3),\n",
       " np.int64(2),\n",
       " np.int64(7),\n",
       " np.int64(1),\n",
       " np.int64(8),\n",
       " np.int64(1),\n",
       " np.int64(8),\n",
       " np.int64(1),\n",
       " np.int64(8),\n",
       " np.int64(5),\n",
       " np.int64(0),\n",
       " np.int64(8),\n",
       " np.int64(9),\n",
       " np.int64(2),\n",
       " np.int64(5),\n",
       " np.int64(0),\n",
       " np.int64(1),\n",
       " np.int64(1),\n",
       " np.int64(1),\n",
       " np.int64(0),\n",
       " np.int64(9),\n",
       " np.int64(0),\n",
       " np.int64(5),\n",
       " np.int64(1),\n",
       " np.int64(6),\n",
       " np.int64(4),\n",
       " np.int64(2),\n",
       " np.int64(3),\n",
       " np.int64(6),\n",
       " np.int64(1),\n",
       " np.int64(1),\n",
       " np.int64(1),\n",
       " np.int64(3),\n",
       " np.int64(9),\n",
       " np.int64(5),\n",
       " np.int64(2),\n",
       " np.int64(9),\n",
       " np.int64(4),\n",
       " np.int64(7),\n",
       " np.int64(9),\n",
       " np.int64(3),\n",
       " np.int64(9),\n",
       " np.int64(0),\n",
       " np.int64(3),\n",
       " np.int64(5),\n",
       " np.int64(5),\n",
       " np.int64(5),\n",
       " np.int64(7),\n",
       " np.int64(2),\n",
       " np.int64(2),\n",
       " np.int64(7),\n",
       " np.int64(1),\n",
       " np.int64(2),\n",
       " np.int64(8),\n",
       " np.int64(4),\n",
       " np.int64(1),\n",
       " np.int64(7),\n",
       " np.int64(3),\n",
       " np.int64(3),\n",
       " np.int64(8),\n",
       " np.int64(7),\n",
       " np.int64(7),\n",
       " np.int64(9),\n",
       " np.int64(2),\n",
       " np.int64(2),\n",
       " np.int64(4),\n",
       " np.int64(1),\n",
       " np.int64(5),\n",
       " np.int64(8),\n",
       " np.int64(8),\n",
       " np.int64(7),\n",
       " np.int64(2),\n",
       " np.int64(3),\n",
       " np.int64(0),\n",
       " np.int64(2),\n",
       " np.int64(4),\n",
       " np.int64(2),\n",
       " np.int64(4),\n",
       " np.int64(1),\n",
       " np.int64(9),\n",
       " np.int64(5),\n",
       " np.int64(7),\n",
       " np.int64(7),\n",
       " np.int64(2),\n",
       " np.int64(8),\n",
       " np.int64(2),\n",
       " np.int64(0),\n",
       " np.int64(8),\n",
       " np.int64(5),\n",
       " np.int64(7),\n",
       " np.int64(7),\n",
       " np.int64(9),\n",
       " np.int64(1),\n",
       " np.int64(8),\n",
       " np.int64(1),\n",
       " np.int64(8),\n",
       " np.int64(0),\n",
       " np.int64(3),\n",
       " np.int64(0),\n",
       " np.int64(1),\n",
       " np.int64(9),\n",
       " np.int64(9),\n",
       " np.int64(4),\n",
       " np.int64(1),\n",
       " np.int64(8),\n",
       " np.int64(2),\n",
       " np.int64(1),\n",
       " np.int64(2),\n",
       " np.int64(9),\n",
       " np.int64(7),\n",
       " np.int64(5),\n",
       " np.int64(9),\n",
       " np.int64(2),\n",
       " np.int64(6),\n",
       " np.int64(4),\n",
       " np.int64(1),\n",
       " np.int64(5),\n",
       " np.int64(4),\n",
       " np.int64(2),\n",
       " np.int64(9),\n",
       " np.int64(2),\n",
       " np.int64(0),\n",
       " np.int64(4),\n",
       " np.int64(0),\n",
       " np.int64(0),\n",
       " np.int64(2),\n",
       " np.int64(8),\n",
       " np.int64(6),\n",
       " np.int64(7),\n",
       " np.int64(1),\n",
       " np.int64(2),\n",
       " np.int64(4),\n",
       " np.int64(0),\n",
       " np.int64(2),\n",
       " np.int64(9),\n",
       " np.int64(4),\n",
       " np.int64(3),\n",
       " np.int64(3),\n",
       " np.int64(0),\n",
       " np.int64(0),\n",
       " np.int64(3),\n",
       " np.int64(1),\n",
       " np.int64(9),\n",
       " np.int64(6),\n",
       " np.int64(5),\n",
       " np.int64(3),\n",
       " np.int64(5),\n",
       " np.int64(7),\n",
       " np.int64(7),\n",
       " np.int64(9),\n",
       " np.int64(3),\n",
       " np.int64(0),\n",
       " np.int64(4),\n",
       " np.int64(2),\n",
       " np.int64(0),\n",
       " np.int64(7),\n",
       " np.int64(1),\n",
       " np.int64(1),\n",
       " np.int64(2),\n",
       " np.int64(1),\n",
       " np.int64(5),\n",
       " np.int64(3),\n",
       " np.int64(3),\n",
       " np.int64(9),\n",
       " np.int64(7),\n",
       " np.int64(8),\n",
       " np.int64(6),\n",
       " np.int64(3),\n",
       " np.int64(6),\n",
       " np.int64(1),\n",
       " np.int64(3),\n",
       " np.int64(8),\n",
       " np.int64(1),\n",
       " np.int64(0),\n",
       " np.int64(5),\n",
       " np.int64(1),\n",
       " np.int64(3),\n",
       " np.int64(1),\n",
       " np.int64(5),\n",
       " np.int64(0),\n",
       " np.int64(6),\n",
       " np.int64(1),\n",
       " np.int64(8),\n",
       " np.int64(5),\n",
       " np.int64(1),\n",
       " np.int64(7),\n",
       " np.int64(4),\n",
       " np.int64(4),\n",
       " np.int64(6),\n",
       " np.int64(7),\n",
       " np.int64(2),\n",
       " np.int64(5),\n",
       " np.int64(0),\n",
       " np.int64(6),\n",
       " np.int64(5),\n",
       " np.int64(6),\n",
       " np.int64(3),\n",
       " np.int64(7),\n",
       " np.int64(2),\n",
       " np.int64(0),\n",
       " np.int64(8),\n",
       " np.int64(8),\n",
       " np.int64(5),\n",
       " np.int64(4),\n",
       " np.int64(1),\n",
       " np.int64(1),\n",
       " np.int64(4),\n",
       " np.int64(0),\n",
       " np.int64(7),\n",
       " np.int64(3),\n",
       " np.int64(7),\n",
       " np.int64(6),\n",
       " np.int64(1),\n",
       " np.int64(6),\n",
       " np.int64(2),\n",
       " np.int64(1),\n",
       " np.int64(9),\n",
       " np.int64(2),\n",
       " np.int64(8),\n",
       " np.int64(6),\n",
       " np.int64(1),\n",
       " np.int64(9),\n",
       " np.int64(5),\n",
       " np.int64(2),\n",
       " np.int64(5),\n",
       " np.int64(4),\n",
       " np.int64(4),\n",
       " np.int64(2),\n",
       " np.int64(8),\n",
       " np.int64(3),\n",
       " np.int64(8),\n",
       " np.int64(2),\n",
       " np.int64(4),\n",
       " np.int64(8),\n",
       " np.int64(0),\n",
       " np.int64(3),\n",
       " np.int64(1),\n",
       " np.int64(7),\n",
       " np.int64(7),\n",
       " np.int64(3),\n",
       " np.int64(7),\n",
       " np.int64(9),\n",
       " np.int64(7),\n",
       " np.int64(1),\n",
       " np.int64(9),\n",
       " np.int64(2),\n",
       " np.int64(1),\n",
       " np.int64(4),\n",
       " np.int64(2),\n",
       " np.int64(9),\n",
       " np.int64(2),\n",
       " np.int64(0),\n",
       " np.int64(4),\n",
       " np.int64(9),\n",
       " np.int64(1),\n",
       " np.int64(4),\n",
       " np.int64(8),\n",
       " np.int64(1),\n",
       " np.int64(8),\n",
       " np.int64(4),\n",
       " np.int64(5),\n",
       " np.int64(9),\n",
       " np.int64(7),\n",
       " np.int64(8),\n",
       " np.int64(3),\n",
       " np.int64(7),\n",
       " np.int64(6),\n",
       " np.int64(0),\n",
       " np.int64(0),\n",
       " np.int64(3),\n",
       " np.int64(0),\n",
       " np.int64(8),\n",
       " np.int64(0),\n",
       " np.int64(6),\n",
       " np.int64(4),\n",
       " np.int64(8),\n",
       " np.int64(3),\n",
       " np.int64(3),\n",
       " np.int64(3),\n",
       " np.int64(2),\n",
       " np.int64(3),\n",
       " np.int64(9),\n",
       " np.int64(1),\n",
       " np.int64(2),\n",
       " np.int64(6),\n",
       " np.int64(8),\n",
       " np.int64(0),\n",
       " np.int64(5),\n",
       " np.int64(6),\n",
       " np.int64(6),\n",
       " np.int64(6),\n",
       " np.int64(3),\n",
       " np.int64(8),\n",
       " np.int64(8),\n",
       " np.int64(2),\n",
       " np.int64(9),\n",
       " np.int64(5),\n",
       " np.int64(8),\n",
       " np.int64(9),\n",
       " np.int64(6),\n",
       " np.int64(1),\n",
       " np.int64(8),\n",
       " np.int64(4),\n",
       " np.int64(1),\n",
       " np.int64(2),\n",
       " np.int64(8),\n",
       " np.int64(3),\n",
       " np.int64(1),\n",
       " np.int64(9),\n",
       " np.int64(7),\n",
       " np.int64(5),\n",
       " np.int64(4),\n",
       " np.int64(0),\n",
       " np.int64(8),\n",
       " np.int64(9),\n",
       " np.int64(9),\n",
       " np.int64(1),\n",
       " np.int64(0),\n",
       " np.int64(5),\n",
       " np.int64(2),\n",
       " np.int64(3),\n",
       " np.int64(7),\n",
       " np.int64(0),\n",
       " np.int64(9),\n",
       " np.int64(4),\n",
       " np.int64(0),\n",
       " np.int64(6),\n",
       " np.int64(3),\n",
       " np.int64(9),\n",
       " np.int64(3),\n",
       " np.int64(2),\n",
       " np.int64(1),\n",
       " np.int64(3),\n",
       " np.int64(1),\n",
       " np.int64(5),\n",
       " np.int64(6),\n",
       " np.int64(5),\n",
       " np.int64(7),\n",
       " np.int64(8),\n",
       " np.int64(2),\n",
       " np.int64(2),\n",
       " np.int64(6),\n",
       " np.int64(3),\n",
       " np.int64(2),\n",
       " np.int64(6),\n",
       " np.int64(5),\n",
       " np.int64(4),\n",
       " np.int64(8),\n",
       " np.int64(9),\n",
       " np.int64(7),\n",
       " np.int64(1),\n",
       " np.int64(3),\n",
       " np.int64(0),\n",
       " np.int64(3),\n",
       " np.int64(8),\n",
       " np.int64(3),\n",
       " np.int64(1),\n",
       " np.int64(9),\n",
       " np.int64(6),\n",
       " np.int64(4),\n",
       " np.int64(4),\n",
       " np.int64(6),\n",
       " np.int64(4),\n",
       " np.int64(1),\n",
       " np.int64(1),\n",
       " np.int64(8),\n",
       " np.int64(2),\n",
       " np.int64(5),\n",
       " np.int64(4),\n",
       " np.int64(2),\n",
       " np.int64(3),\n",
       " np.int64(4),\n",
       " np.int64(0),\n",
       " np.int64(0),\n",
       " np.int64(2),\n",
       " np.int64(3),\n",
       " np.int64(2),\n",
       " np.int64(7),\n",
       " np.int64(1),\n",
       " np.int64(0),\n",
       " np.int64(8),\n",
       " np.int64(7),\n",
       " np.int64(4),\n",
       " np.int64(4),\n",
       " np.int64(7),\n",
       " np.int64(9),\n",
       " np.int64(6),\n",
       " np.int64(9),\n",
       " np.int64(0),\n",
       " np.int64(9),\n",
       " np.int64(8),\n",
       " np.int64(0),\n",
       " np.int64(9),\n",
       " np.int64(6),\n",
       " np.int64(0),\n",
       " np.int64(6),\n",
       " np.int64(5),\n",
       " np.int64(5),\n",
       " np.int64(4),\n",
       " np.int64(8),\n",
       " np.int64(3),\n",
       " np.int64(3),\n",
       " np.int64(9),\n",
       " np.int64(3),\n",
       " np.int64(3),\n",
       " np.int64(2),\n",
       " np.int64(7),\n",
       " np.int64(8),\n",
       " np.int64(0),\n",
       " np.int64(1),\n",
       " np.int64(8),\n",
       " np.int64(1),\n",
       " np.int64(7),\n",
       " np.int64(0),\n",
       " np.int64(6),\n",
       " np.int64(5),\n",
       " np.int64(4),\n",
       " np.int64(3),\n",
       " np.int64(3),\n",
       " np.int64(0),\n",
       " np.int64(9),\n",
       " np.int64(6),\n",
       " np.int64(3),\n",
       " np.int64(8),\n",
       " np.int64(0),\n",
       " np.int64(9),\n",
       " np.int64(9),\n",
       " np.int64(6),\n",
       " np.int64(8),\n",
       " np.int64(6),\n",
       " np.int64(8),\n",
       " np.int64(5),\n",
       " np.int64(7),\n",
       " np.int64(8),\n",
       " np.int64(6),\n",
       " np.int64(0),\n",
       " np.int64(2),\n",
       " np.int64(4),\n",
       " np.int64(0),\n",
       " np.int64(2),\n",
       " np.int64(8),\n",
       " np.int64(3),\n",
       " np.int64(1),\n",
       " np.int64(9),\n",
       " np.int64(7),\n",
       " np.int64(5),\n",
       " np.int64(8),\n",
       " np.int64(0),\n",
       " np.int64(8),\n",
       " np.int64(4),\n",
       " np.int64(6),\n",
       " np.int64(2),\n",
       " np.int64(6),\n",
       " np.int64(7),\n",
       " np.int64(4),\n",
       " np.int64(9),\n",
       " np.int64(6),\n",
       " np.int64(9),\n",
       " np.int64(8),\n",
       " np.int64(2),\n",
       " np.int64(2),\n",
       " np.int64(9),\n",
       " np.int64(2),\n",
       " np.int64(7),\n",
       " np.int64(3),\n",
       " np.int64(5),\n",
       " np.int64(9),\n",
       " np.int64(1),\n",
       " np.int64(8),\n",
       " np.int64(0),\n",
       " np.int64(2),\n",
       " np.int64(0),\n",
       " np.int64(5),\n",
       " np.int64(2),\n",
       " np.int64(1),\n",
       " np.int64(3),\n",
       " np.int64(7),\n",
       " np.int64(6),\n",
       " np.int64(7),\n",
       " np.int64(1),\n",
       " np.int64(2),\n",
       " np.int64(5),\n",
       " np.int64(8),\n",
       " np.int64(0),\n",
       " np.int64(3),\n",
       " np.int64(7),\n",
       " np.int64(9),\n",
       " np.int64(4),\n",
       " np.int64(0),\n",
       " np.int64(9),\n",
       " np.int64(1),\n",
       " np.int64(8),\n",
       " np.int64(6),\n",
       " np.int64(7),\n",
       " np.int64(7),\n",
       " np.int64(4),\n",
       " np.int64(3),\n",
       " np.int64(4),\n",
       " np.int64(9),\n",
       " np.int64(1),\n",
       " np.int64(9),\n",
       " np.int64(5),\n",
       " np.int64(1),\n",
       " np.int64(7),\n",
       " np.int64(3),\n",
       " np.int64(9),\n",
       " np.int64(7),\n",
       " np.int64(6),\n",
       " np.int64(9),\n",
       " np.int64(1),\n",
       " np.int64(3),\n",
       " np.int64(2),\n",
       " np.int64(8),\n",
       " np.int64(3),\n",
       " np.int64(3),\n",
       " np.int64(6),\n",
       " np.int64(7),\n",
       " np.int64(2),\n",
       " np.int64(4),\n",
       " np.int64(7),\n",
       " np.int64(8),\n",
       " np.int64(5),\n",
       " np.int64(1),\n",
       " np.int64(1),\n",
       " np.int64(4),\n",
       " np.int64(4),\n",
       " np.int64(3),\n",
       " np.int64(1),\n",
       " np.int64(0),\n",
       " np.int64(7),\n",
       " np.int64(7),\n",
       " np.int64(0),\n",
       " np.int64(7),\n",
       " np.int64(9),\n",
       " np.int64(9),\n",
       " np.int64(4),\n",
       " np.int64(8),\n",
       " np.int64(5),\n",
       " np.int64(5),\n",
       " np.int64(4),\n",
       " np.int64(0),\n",
       " np.int64(8),\n",
       " np.int64(2),\n",
       " np.int64(1),\n",
       " np.int64(6),\n",
       " np.int64(8),\n",
       " np.int64(4),\n",
       " np.int64(2),\n",
       " np.int64(0),\n",
       " np.int64(4),\n",
       " np.int64(0),\n",
       " np.int64(6),\n",
       " np.int64(1),\n",
       " np.int64(7),\n",
       " np.int64(3),\n",
       " np.int64(8),\n",
       " np.int64(6),\n",
       " np.int64(7),\n",
       " np.int64(2),\n",
       " np.int64(6),\n",
       " np.int64(9),\n",
       " np.int64(3),\n",
       " np.int64(1),\n",
       " np.int64(4),\n",
       " np.int64(6),\n",
       " np.int64(8),\n",
       " np.int64(5),\n",
       " np.int64(9),\n",
       " np.int64(8),\n",
       " np.int64(0),\n",
       " np.int64(6),\n",
       " np.int64(2),\n",
       " np.int64(1),\n",
       " np.int64(7),\n",
       " np.int64(3),\n",
       " np.int64(4),\n",
       " np.int64(1),\n",
       " np.int64(0),\n",
       " np.int64(5),\n",
       " np.int64(4),\n",
       " np.int64(3),\n",
       " np.int64(1),\n",
       " np.int64(1),\n",
       " np.int64(7),\n",
       " np.int64(4),\n",
       " np.int64(9),\n",
       " np.int64(9),\n",
       " np.int64(9),\n",
       " np.int64(8),\n",
       " np.int64(4),\n",
       " np.int64(0),\n",
       " np.int64(2),\n",
       " np.int64(4),\n",
       " np.int64(5),\n",
       " np.int64(1),\n",
       " np.int64(1),\n",
       " np.int64(6),\n",
       " np.int64(4),\n",
       " np.int64(7),\n",
       " np.int64(1),\n",
       " np.int64(9),\n",
       " np.int64(4),\n",
       " np.int64(2),\n",
       " np.int64(4),\n",
       " np.int64(1),\n",
       " np.int64(5),\n",
       " np.int64(5),\n",
       " np.int64(3),\n",
       " np.int64(8),\n",
       " np.int64(3),\n",
       " np.int64(1),\n",
       " np.int64(4),\n",
       " np.int64(5),\n",
       " np.int64(6),\n",
       " np.int64(8),\n",
       " np.int64(9),\n",
       " np.int64(4),\n",
       " np.int64(1),\n",
       " np.int64(9),\n",
       " np.int64(3),\n",
       " np.int64(8),\n",
       " np.int64(0),\n",
       " np.int64(3),\n",
       " np.int64(2),\n",
       " np.int64(5),\n",
       " np.int64(1),\n",
       " np.int64(2),\n",
       " np.int64(8),\n",
       " np.int64(3),\n",
       " np.int64(4),\n",
       " np.int64(4),\n",
       " np.int64(0),\n",
       " np.int64(8),\n",
       " np.int64(8),\n",
       " np.int64(3),\n",
       " np.int64(3),\n",
       " np.int64(1),\n",
       " np.int64(7),\n",
       " np.int64(3),\n",
       " np.int64(5),\n",
       " np.int64(9),\n",
       " np.int64(6),\n",
       " np.int64(3),\n",
       " np.int64(2),\n",
       " np.int64(6),\n",
       " np.int64(1),\n",
       " np.int64(3),\n",
       " np.int64(6),\n",
       " np.int64(0),\n",
       " np.int64(7),\n",
       " np.int64(2),\n",
       " np.int64(1),\n",
       " np.int64(7),\n",
       " np.int64(1),\n",
       " np.int64(4),\n",
       " np.int64(2),\n",
       " np.int64(8),\n",
       " np.int64(2),\n",
       " np.int64(1),\n",
       " np.int64(7),\n",
       " np.int64(9),\n",
       " np.int64(6),\n",
       " np.int64(1),\n",
       " np.int64(1),\n",
       " np.int64(2),\n",
       " np.int64(4),\n",
       " np.int64(3),\n",
       " np.int64(1),\n",
       " np.int64(7),\n",
       " np.int64(7),\n",
       " np.int64(4),\n",
       " np.int64(7),\n",
       " np.int64(0),\n",
       " np.int64(7),\n",
       " np.int64(3),\n",
       " np.int64(1),\n",
       " np.int64(3),\n",
       " np.int64(1),\n",
       " np.int64(0),\n",
       " np.int64(7),\n",
       " np.int64(7),\n",
       " np.int64(0),\n",
       " np.int64(3),\n",
       " np.int64(5),\n",
       " np.int64(3),\n",
       " np.int64(2),\n",
       " np.int64(7),\n",
       " np.int64(6),\n",
       " np.int64(6),\n",
       " np.int64(9),\n",
       " np.int64(2),\n",
       " np.int64(8),\n",
       " np.int64(3),\n",
       " np.int64(5),\n",
       " np.int64(2),\n",
       " np.int64(2),\n",
       " np.int64(5),\n",
       " np.int64(6),\n",
       " np.int64(0),\n",
       " np.int64(8),\n",
       " np.int64(2),\n",
       " np.int64(9),\n",
       " np.int64(2),\n",
       " np.int64(8),\n",
       " np.int64(2),\n",
       " np.int64(8),\n",
       " np.int64(8),\n",
       " np.int64(7),\n",
       " np.int64(9),\n",
       " np.int64(7),\n",
       " np.int64(3),\n",
       " np.int64(0),\n",
       " np.int64(6),\n",
       " np.int64(6),\n",
       " np.int64(3),\n",
       " np.int64(2),\n",
       " np.int64(1),\n",
       " np.int64(3),\n",
       " np.int64(2),\n",
       " np.int64(2),\n",
       " np.int64(9),\n",
       " np.int64(3),\n",
       " np.int64(0),\n",
       " np.int64(0),\n",
       " np.int64(5),\n",
       " np.int64(2),\n",
       " np.int64(8),\n",
       " np.int64(1),\n",
       " np.int64(4),\n",
       " np.int64(4),\n",
       " np.int64(6),\n",
       " np.int64(0),\n",
       " np.int64(2),\n",
       " np.int64(9),\n",
       " np.int64(1),\n",
       " np.int64(4),\n",
       " np.int64(7),\n",
       " np.int64(4),\n",
       " np.int64(7),\n",
       " np.int64(3),\n",
       " np.int64(9),\n",
       " np.int64(8),\n",
       " np.int64(8),\n",
       " np.int64(4),\n",
       " np.int64(7),\n",
       " np.int64(1),\n",
       " np.int64(2),\n",
       " np.int64(1),\n",
       " np.int64(2),\n",
       " np.int64(2),\n",
       " np.int64(3),\n",
       " np.int64(7),\n",
       " np.int64(3),\n",
       " np.int64(2),\n",
       " np.int64(3),\n",
       " np.int64(9),\n",
       " np.int64(1),\n",
       " np.int64(7),\n",
       " np.int64(4),\n",
       " np.int64(0),\n",
       " np.int64(3),\n",
       " np.int64(5),\n",
       " np.int64(5),\n",
       " np.int64(8),\n",
       " np.int64(6),\n",
       " np.int64(5),\n",
       " np.int64(0),\n",
       " np.int64(6),\n",
       " np.int64(7),\n",
       " np.int64(6),\n",
       " np.int64(6),\n",
       " np.int64(3),\n",
       " np.int64(2),\n",
       " np.int64(7),\n",
       " np.int64(9),\n",
       " np.int64(1),\n",
       " np.int64(1),\n",
       " np.int64(2),\n",
       " np.int64(4),\n",
       " np.int64(6),\n",
       " np.int64(4),\n",
       " np.int64(9),\n",
       " np.int64(5),\n",
       " np.int64(6),\n",
       " np.int64(3),\n",
       " np.int64(3),\n",
       " np.int64(4),\n",
       " np.int64(7),\n",
       " np.int64(8),\n",
       " np.int64(9),\n",
       " np.int64(1),\n",
       " np.int64(1),\n",
       " np.int64(0),\n",
       " np.int64(9),\n",
       " np.int64(1),\n",
       " np.int64(4),\n",
       " np.int64(4),\n",
       " np.int64(5),\n",
       " np.int64(4),\n",
       " np.int64(0),\n",
       " np.int64(6),\n",
       " np.int64(2),\n",
       " np.int64(3),\n",
       " np.int64(3),\n",
       " np.int64(1),\n",
       " np.int64(5),\n",
       " np.int64(1),\n",
       " np.int64(2),\n",
       " np.int64(0),\n",
       " np.int64(8),\n",
       " np.int64(8),\n",
       " np.int64(1),\n",
       " np.int64(2),\n",
       " np.int64(6),\n",
       " np.int64(7),\n",
       " np.int64(1),\n",
       " np.int64(6),\n",
       " np.int64(2),\n",
       " np.int64(3),\n",
       " np.int64(9),\n",
       " np.int64(0),\n",
       " np.int64(1),\n",
       " np.int64(2),\n",
       " np.int64(2),\n",
       " np.int64(0),\n",
       " np.int64(8),\n",
       " np.int64(7),\n",
       " ...]"
      ]
     },
     "execution_count": 76,
     "metadata": {},
     "output_type": "execute_result"
    }
   ],
   "source": [
    "y_predicted_labels"
   ]
  },
  {
   "cell_type": "code",
   "execution_count": 56,
   "metadata": {},
   "outputs": [
    {
     "data": {
      "text/plain": [
       "[np.int64(3), np.int64(0), np.int64(1), np.int64(0), np.int64(4)]"
      ]
     },
     "execution_count": 56,
     "metadata": {},
     "output_type": "execute_result"
    }
   ],
   "source": [
    "y_predicted_labels[:5]"
   ]
  },
  {
   "cell_type": "code",
   "execution_count": 57,
   "metadata": {
    "scrolled": true
   },
   "outputs": [
    {
     "name": "stdout",
     "output_type": "stream",
     "text": [
      "Epoch 1/5\n",
      "\u001b[1m1875/1875\u001b[0m \u001b[32m━━━━━━━━━━━━━━━━━━━━\u001b[0m\u001b[37m\u001b[0m \u001b[1m4s\u001b[0m 2ms/step - accuracy: 0.5059 - loss: 2.4827\n",
      "Epoch 2/5\n",
      "\u001b[1m1875/1875\u001b[0m \u001b[32m━━━━━━━━━━━━━━━━━━━━\u001b[0m\u001b[37m\u001b[0m \u001b[1m4s\u001b[0m 2ms/step - accuracy: 0.4562 - loss: 0.4393\n",
      "Epoch 3/5\n",
      "\u001b[1m1875/1875\u001b[0m \u001b[32m━━━━━━━━━━━━━━━━━━━━\u001b[0m\u001b[37m\u001b[0m \u001b[1m3s\u001b[0m 2ms/step - accuracy: 0.3392 - loss: 0.3134\n",
      "Epoch 4/5\n",
      "\u001b[1m1875/1875\u001b[0m \u001b[32m━━━━━━━━━━━━━━━━━━━━\u001b[0m\u001b[37m\u001b[0m \u001b[1m4s\u001b[0m 2ms/step - accuracy: 0.3232 - loss: 0.2652\n",
      "Epoch 5/5\n",
      "\u001b[1m1875/1875\u001b[0m \u001b[32m━━━━━━━━━━━━━━━━━━━━\u001b[0m\u001b[37m\u001b[0m \u001b[1m4s\u001b[0m 2ms/step - accuracy: 0.3179 - loss: 0.2344\n"
     ]
    },
    {
     "data": {
      "text/plain": [
       "<keras.src.callbacks.history.History at 0x71fa1a4292e0>"
      ]
     },
     "execution_count": 57,
     "metadata": {},
     "output_type": "execute_result"
    }
   ],
   "source": [
    "model = keras.Sequential([\n",
    "    keras.layers.Dense(100, input_shape=(784,), activation='relu'),\n",
    "    keras.layers.Dense(10, activation='sigmoid')\n",
    "])\n",
    "\n",
    "model.compile(optimizer='adam',\n",
    "              loss='sparse_categorical_crossentropy',\n",
    "              metrics=['accuracy'])\n",
    "\n",
    "model.fit(X_train_flattened, y_train, epochs=5)"
   ]
  },
  {
   "cell_type": "code",
   "execution_count": 58,
   "metadata": {
    "scrolled": true
   },
   "outputs": [
    {
     "name": "stdout",
     "output_type": "stream",
     "text": [
      "\u001b[1m313/313\u001b[0m \u001b[32m━━━━━━━━━━━━━━━━━━━━\u001b[0m\u001b[37m\u001b[0m \u001b[1m0s\u001b[0m 1ms/step - accuracy: 0.3203 - loss: 0.2414\n"
     ]
    },
    {
     "data": {
      "text/plain": [
       "[0.24140238761901855, 0.32030001282691956]"
      ]
     },
     "execution_count": 58,
     "metadata": {},
     "output_type": "execute_result"
    }
   ],
   "source": [
    "model.evaluate(X_test_flattened,y_test)"
   ]
  },
  {
   "cell_type": "code",
   "execution_count": null,
   "metadata": {},
   "outputs": [
    {
     "ename": "ValueError",
     "evalue": "Exception encountered when calling Sequential.call().\n\n\u001b[1mCannot take the length of shape with unknown rank.\u001b[0m\n\nArguments received by Sequential.call():\n  • inputs=tf.Tensor(shape=<unknown>, dtype=uint8)\n  • training=False\n  • mask=None\n  • kwargs=<class 'inspect._empty'>",
     "output_type": "error",
     "traceback": [
      "\u001b[31m---------------------------------------------------------------------------\u001b[39m",
      "\u001b[31mValueError\u001b[39m                                Traceback (most recent call last)",
      "\u001b[36mCell\u001b[39m\u001b[36m \u001b[39m\u001b[32mIn[59]\u001b[39m\u001b[32m, line 1\u001b[39m\n\u001b[32m----> \u001b[39m\u001b[32m1\u001b[39m \u001b[43mmodel\u001b[49m\u001b[43m.\u001b[49m\u001b[43mevaluate\u001b[49m\u001b[43m(\u001b[49m\u001b[43mX_test\u001b[49m\u001b[43m,\u001b[49m\u001b[43my_test\u001b[49m\u001b[43m)\u001b[49m\n",
      "\u001b[36mFile \u001b[39m\u001b[32m/usr/local/python/3.12.1/lib/python3.12/site-packages/keras/src/utils/traceback_utils.py:122\u001b[39m, in \u001b[36mfilter_traceback.<locals>.error_handler\u001b[39m\u001b[34m(*args, **kwargs)\u001b[39m\n\u001b[32m    119\u001b[39m     filtered_tb = _process_traceback_frames(e.__traceback__)\n\u001b[32m    120\u001b[39m     \u001b[38;5;66;03m# To get the full stack trace, call:\u001b[39;00m\n\u001b[32m    121\u001b[39m     \u001b[38;5;66;03m# `keras.config.disable_traceback_filtering()`\u001b[39;00m\n\u001b[32m--> \u001b[39m\u001b[32m122\u001b[39m     \u001b[38;5;28;01mraise\u001b[39;00m e.with_traceback(filtered_tb) \u001b[38;5;28;01mfrom\u001b[39;00m\u001b[38;5;250m \u001b[39m\u001b[38;5;28;01mNone\u001b[39;00m\n\u001b[32m    123\u001b[39m \u001b[38;5;28;01mfinally\u001b[39;00m:\n\u001b[32m    124\u001b[39m     \u001b[38;5;28;01mdel\u001b[39;00m filtered_tb\n",
      "\u001b[36mFile \u001b[39m\u001b[32m/usr/local/python/3.12.1/lib/python3.12/site-packages/keras/src/utils/traceback_utils.py:122\u001b[39m, in \u001b[36mfilter_traceback.<locals>.error_handler\u001b[39m\u001b[34m(*args, **kwargs)\u001b[39m\n\u001b[32m    119\u001b[39m     filtered_tb = _process_traceback_frames(e.__traceback__)\n\u001b[32m    120\u001b[39m     \u001b[38;5;66;03m# To get the full stack trace, call:\u001b[39;00m\n\u001b[32m    121\u001b[39m     \u001b[38;5;66;03m# `keras.config.disable_traceback_filtering()`\u001b[39;00m\n\u001b[32m--> \u001b[39m\u001b[32m122\u001b[39m     \u001b[38;5;28;01mraise\u001b[39;00m e.with_traceback(filtered_tb) \u001b[38;5;28;01mfrom\u001b[39;00m\u001b[38;5;250m \u001b[39m\u001b[38;5;28;01mNone\u001b[39;00m\n\u001b[32m    123\u001b[39m \u001b[38;5;28;01mfinally\u001b[39;00m:\n\u001b[32m    124\u001b[39m     \u001b[38;5;28;01mdel\u001b[39;00m filtered_tb\n",
      "\u001b[31mValueError\u001b[39m: Exception encountered when calling Sequential.call().\n\n\u001b[1mCannot take the length of shape with unknown rank.\u001b[0m\n\nArguments received by Sequential.call():\n  • inputs=tf.Tensor(shape=<unknown>, dtype=uint8)\n  • training=False\n  • mask=None\n  • kwargs=<class 'inspect._empty'>"
     ]
    }
   ],
   "source": [
    "model.evaluate(X_test,y_test)"
   ]
  }
 ],
 "metadata": {
  "kernelspec": {
   "display_name": "Python 3",
   "language": "python",
   "name": "python3"
  },
  "language_info": {
   "codemirror_mode": {
    "name": "ipython",
    "version": 3
   },
   "file_extension": ".py",
   "mimetype": "text/x-python",
   "name": "python",
   "nbconvert_exporter": "python",
   "pygments_lexer": "ipython3",
   "version": "3.12.1"
  }
 },
 "nbformat": 4,
 "nbformat_minor": 4
}
